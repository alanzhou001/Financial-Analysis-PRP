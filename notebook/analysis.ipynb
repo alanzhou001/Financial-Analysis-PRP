{
 "cells": [
  {
   "cell_type": "code",
   "execution_count": 2,
   "metadata": {},
   "outputs": [],
   "source": [
    "import pandas as pd\n",
    "import matplotlib.pyplot as plt"
   ]
  },
  {
   "cell_type": "code",
   "execution_count": 14,
   "metadata": {},
   "outputs": [
    {
     "name": "stdout",
     "output_type": "stream",
     "text": [
      "                              Unnamed: 1 Unnamed: 2 Unnamed: 3 Unnamed: 4  \\\n",
      "资产负债表(证券代码：300750.SZ 名称：宁德时代）                                               \n",
      "（单位：百万元，CNY）                         NaN        NaN        NaN        NaN   \n",
      "年份                                  2017       2018       2019       2020   \n",
      "上市前/上市后                              上市前        上市后        上市后        上市后   \n",
      "报表格式                                一般企业       一般企业       一般企业       一般企业   \n",
      "报表类型                                  合并         合并         合并         合并   \n",
      "\n",
      "                              Unnamed: 5 Unnamed: 6 Unnamed: 7  \n",
      "资产负债表(证券代码：300750.SZ 名称：宁德时代）                                   \n",
      "（单位：百万元，CNY）                         NaN        NaN        NaN  \n",
      "年份                                  2021       2022       2023  \n",
      "上市前/上市后                              上市后        上市后        上市后  \n",
      "报表格式                                一般企业       一般企业       一般企业  \n",
      "报表类型                                  合并         合并         合并  \n",
      "                            Unnamed: 1 Unnamed: 2 Unnamed: 3 Unnamed: 4  \\\n",
      "利润表(证券代码：300750.SZ 名称：宁德时代）                                               \n",
      "（单位：亿元，CNY）                        NaN        NaN        NaN        NaN   \n",
      "年份                                2017       2018       2019       2020   \n",
      "上市前/上市后                            上市前        上市后        上市后        上市后   \n",
      "报表格式                              一般企业       一般企业       一般企业       一般企业   \n",
      "报表类型                                合并         合并         合并         合并   \n",
      "\n",
      "                            Unnamed: 5 Unnamed: 6 Unnamed: 7  \n",
      "利润表(证券代码：300750.SZ 名称：宁德时代）                                   \n",
      "（单位：亿元，CNY）                        NaN        NaN        NaN  \n",
      "年份                                2021       2022       2023  \n",
      "上市前/上市后                            上市后        上市后        上市后  \n",
      "报表格式                              一般企业       一般企业       一般企业  \n",
      "报表类型                                合并         合并         合并  \n",
      "                              Unnamed: 1 Unnamed: 2 Unnamed: 3 Unnamed: 4  \\\n",
      "现金流量表(证券代码：300750.SZ 名称：宁德时代）                                               \n",
      "（单位：百万元，CNY）                         NaN        NaN        NaN        NaN   \n",
      "NaN                              2017 年报    2018 年报    2019 年报    2020 年报   \n",
      "上市前/上市后                              上市前        上市后        上市后        上市后   \n",
      "报表格式                                一般企业       一般企业       一般企业       一般企业   \n",
      "报表类型                                  合并         合并         合并         合并   \n",
      "\n",
      "                              Unnamed: 5 Unnamed: 6 Unnamed: 7  \n",
      "现金流量表(证券代码：300750.SZ 名称：宁德时代）                                   \n",
      "（单位：百万元，CNY）                         NaN        NaN        NaN  \n",
      "NaN                              2021 年报    2022 年报    2023 年报  \n",
      "上市前/上市后                              上市后        上市后        上市后  \n",
      "报表格式                                一般企业       一般企业       一般企业  \n",
      "报表类型                                  合并         合并         合并  \n"
     ]
    },
    {
     "name": "stderr",
     "output_type": "stream",
     "text": [
      "/opt/conda/envs/finana/lib/python3.10/site-packages/openpyxl/styles/stylesheet.py:237: UserWarning: Workbook contains no default style, apply openpyxl's default\n",
      "  warn(\"Workbook contains no default style, apply openpyxl's default\")\n"
     ]
    }
   ],
   "source": [
    "# 加载数据\n",
    "balance_sheet = pd.read_excel(r'/workspaces/Financial-Analysis-PRP/data/300750.SZ/宁德时代(300750.SZ)-资产负债表-普通报表和同比(%).xlsx')\n",
    "income_statement = pd.read_excel(r'/workspaces/Financial-Analysis-PRP/data/300750.SZ/宁德时代(300750.SZ)-利润表-普通报表和同比(%).xlsx')\n",
    "cash_flow_statement = pd.read_excel(r'/workspaces/Financial-Analysis-PRP/data/300750.SZ/宁德时代(300750.SZ)-现金流量表-普通报表.xlsx')\n",
    "\n",
    "balance_sheet.set_index(balance_sheet.columns[0], inplace=True)\n",
    "income_statement.set_index(income_statement.columns[0], inplace=True)\n",
    "cash_flow_statement.set_index(cash_flow_statement.columns[0], inplace=True)\n",
    "\n",
    "# 展示数据\n",
    "print(balance_sheet.head())\n",
    "print(income_statement.head())\n",
    "print(cash_flow_statement.head())"
   ]
  },
  {
   "cell_type": "code",
   "execution_count": 15,
   "metadata": {},
   "outputs": [],
   "source": [
    "def clean_data(df):\n",
    "    for col in df.columns: \n",
    "        if df[col].dtype == 'object':\n",
    "            df[col] = pd.to_numeric(df[col].str.replace(',', '').str.replace('--', '0'), errors='coerce')\n",
    "    return df\n",
    "\n",
    "balance_sheet = clean_data(balance_sheet)\n",
    "income_statement = clean_data(income_statement)\n",
    "cash_flow_statement = clean_data(cash_flow_statement)"
   ]
  },
  {
   "cell_type": "code",
   "execution_count": 20,
   "metadata": {},
   "outputs": [
    {
     "name": "stdout",
     "output_type": "stream",
     "text": [
      "Index([ '（单位：百万元，CNY）',            '年份',       '上市前/上市后',          '报表格式',\n",
      "                '报表类型',          '原始货币',         '流动资产：',      '    货币资金',\n",
      "         '    货币资金(%)',   '    交易性金融资产',\n",
      "       ...\n",
      "          '负债和所有者权益总计', '负债和所有者权益总计(%)',      '审计意见(境内)',      '审计意见(境外)',\n",
      "              '会计师事务所',        '报表会计准则',          '公告日期',          '数据来源',\n",
      "                   nan, '数据来源：同花顺iFinD'],\n",
      "      dtype='object', name='资产负债表(证券代码：300750.SZ 名称：宁德时代）', length=167)\n"
     ]
    }
   ],
   "source": [
    "print(balance_sheet.index)"
   ]
  },
  {
   "cell_type": "code",
   "execution_count": 17,
   "metadata": {},
   "outputs": [
    {
     "ename": "KeyError",
     "evalue": "'流动资产合计'",
     "output_type": "error",
     "traceback": [
      "\u001b[0;31m---------------------------------------------------------------------------\u001b[0m",
      "\u001b[0;31mKeyError\u001b[0m                                  Traceback (most recent call last)",
      "File \u001b[0;32m/opt/conda/envs/finana/lib/python3.10/site-packages/pandas/core/indexes/base.py:3805\u001b[0m, in \u001b[0;36mIndex.get_loc\u001b[0;34m(self, key)\u001b[0m\n\u001b[1;32m   3804\u001b[0m \u001b[38;5;28;01mtry\u001b[39;00m:\n\u001b[0;32m-> 3805\u001b[0m     \u001b[38;5;28;01mreturn\u001b[39;00m \u001b[38;5;28;43mself\u001b[39;49m\u001b[38;5;241;43m.\u001b[39;49m\u001b[43m_engine\u001b[49m\u001b[38;5;241;43m.\u001b[39;49m\u001b[43mget_loc\u001b[49m\u001b[43m(\u001b[49m\u001b[43mcasted_key\u001b[49m\u001b[43m)\u001b[49m\n\u001b[1;32m   3806\u001b[0m \u001b[38;5;28;01mexcept\u001b[39;00m \u001b[38;5;167;01mKeyError\u001b[39;00m \u001b[38;5;28;01mas\u001b[39;00m err:\n",
      "File \u001b[0;32mindex.pyx:167\u001b[0m, in \u001b[0;36mpandas._libs.index.IndexEngine.get_loc\u001b[0;34m()\u001b[0m\n",
      "File \u001b[0;32mindex.pyx:196\u001b[0m, in \u001b[0;36mpandas._libs.index.IndexEngine.get_loc\u001b[0;34m()\u001b[0m\n",
      "File \u001b[0;32mpandas/_libs/hashtable_class_helper.pxi:7081\u001b[0m, in \u001b[0;36mpandas._libs.hashtable.PyObjectHashTable.get_item\u001b[0;34m()\u001b[0m\n",
      "File \u001b[0;32mpandas/_libs/hashtable_class_helper.pxi:7089\u001b[0m, in \u001b[0;36mpandas._libs.hashtable.PyObjectHashTable.get_item\u001b[0;34m()\u001b[0m\n",
      "\u001b[0;31mKeyError\u001b[0m: '流动资产合计'",
      "\nThe above exception was the direct cause of the following exception:\n",
      "\u001b[0;31mKeyError\u001b[0m                                  Traceback (most recent call last)",
      "Cell \u001b[0;32mIn[17], line 2\u001b[0m\n\u001b[1;32m      1\u001b[0m \u001b[38;5;66;03m# 流动性比率：流动比率 = 流动资产 / 流动负债\u001b[39;00m\n\u001b[0;32m----> 2\u001b[0m balance_sheet[\u001b[38;5;124m'\u001b[39m\u001b[38;5;124m流动比率\u001b[39m\u001b[38;5;124m'\u001b[39m] \u001b[38;5;241m=\u001b[39m \u001b[43mbalance_sheet\u001b[49m\u001b[43m[\u001b[49m\u001b[38;5;124;43m'\u001b[39;49m\u001b[38;5;124;43m流动资产合计\u001b[39;49m\u001b[38;5;124;43m'\u001b[39;49m\u001b[43m]\u001b[49m \u001b[38;5;241m/\u001b[39m balance_sheet[\u001b[38;5;124m'\u001b[39m\u001b[38;5;124m流动负债合计\u001b[39m\u001b[38;5;124m'\u001b[39m]\n\u001b[1;32m      4\u001b[0m \u001b[38;5;66;03m# 盈利能力比率：净利润率 = 净利润 / 营业收入\u001b[39;00m\n\u001b[1;32m      5\u001b[0m income_statement[\u001b[38;5;124m'\u001b[39m\u001b[38;5;124m净利润率\u001b[39m\u001b[38;5;124m'\u001b[39m] \u001b[38;5;241m=\u001b[39m income_statement[\u001b[38;5;124m'\u001b[39m\u001b[38;5;124m五、净利润\u001b[39m\u001b[38;5;124m'\u001b[39m] \u001b[38;5;241m/\u001b[39m income_statement[\u001b[38;5;124m'\u001b[39m\u001b[38;5;124m一、营业总收入\u001b[39m\u001b[38;5;124m'\u001b[39m]\n",
      "File \u001b[0;32m/opt/conda/envs/finana/lib/python3.10/site-packages/pandas/core/frame.py:4102\u001b[0m, in \u001b[0;36mDataFrame.__getitem__\u001b[0;34m(self, key)\u001b[0m\n\u001b[1;32m   4100\u001b[0m \u001b[38;5;28;01mif\u001b[39;00m \u001b[38;5;28mself\u001b[39m\u001b[38;5;241m.\u001b[39mcolumns\u001b[38;5;241m.\u001b[39mnlevels \u001b[38;5;241m>\u001b[39m \u001b[38;5;241m1\u001b[39m:\n\u001b[1;32m   4101\u001b[0m     \u001b[38;5;28;01mreturn\u001b[39;00m \u001b[38;5;28mself\u001b[39m\u001b[38;5;241m.\u001b[39m_getitem_multilevel(key)\n\u001b[0;32m-> 4102\u001b[0m indexer \u001b[38;5;241m=\u001b[39m \u001b[38;5;28;43mself\u001b[39;49m\u001b[38;5;241;43m.\u001b[39;49m\u001b[43mcolumns\u001b[49m\u001b[38;5;241;43m.\u001b[39;49m\u001b[43mget_loc\u001b[49m\u001b[43m(\u001b[49m\u001b[43mkey\u001b[49m\u001b[43m)\u001b[49m\n\u001b[1;32m   4103\u001b[0m \u001b[38;5;28;01mif\u001b[39;00m is_integer(indexer):\n\u001b[1;32m   4104\u001b[0m     indexer \u001b[38;5;241m=\u001b[39m [indexer]\n",
      "File \u001b[0;32m/opt/conda/envs/finana/lib/python3.10/site-packages/pandas/core/indexes/base.py:3812\u001b[0m, in \u001b[0;36mIndex.get_loc\u001b[0;34m(self, key)\u001b[0m\n\u001b[1;32m   3807\u001b[0m     \u001b[38;5;28;01mif\u001b[39;00m \u001b[38;5;28misinstance\u001b[39m(casted_key, \u001b[38;5;28mslice\u001b[39m) \u001b[38;5;129;01mor\u001b[39;00m (\n\u001b[1;32m   3808\u001b[0m         \u001b[38;5;28misinstance\u001b[39m(casted_key, abc\u001b[38;5;241m.\u001b[39mIterable)\n\u001b[1;32m   3809\u001b[0m         \u001b[38;5;129;01mand\u001b[39;00m \u001b[38;5;28many\u001b[39m(\u001b[38;5;28misinstance\u001b[39m(x, \u001b[38;5;28mslice\u001b[39m) \u001b[38;5;28;01mfor\u001b[39;00m x \u001b[38;5;129;01min\u001b[39;00m casted_key)\n\u001b[1;32m   3810\u001b[0m     ):\n\u001b[1;32m   3811\u001b[0m         \u001b[38;5;28;01mraise\u001b[39;00m InvalidIndexError(key)\n\u001b[0;32m-> 3812\u001b[0m     \u001b[38;5;28;01mraise\u001b[39;00m \u001b[38;5;167;01mKeyError\u001b[39;00m(key) \u001b[38;5;28;01mfrom\u001b[39;00m \u001b[38;5;21;01merr\u001b[39;00m\n\u001b[1;32m   3813\u001b[0m \u001b[38;5;28;01mexcept\u001b[39;00m \u001b[38;5;167;01mTypeError\u001b[39;00m:\n\u001b[1;32m   3814\u001b[0m     \u001b[38;5;66;03m# If we have a listlike key, _check_indexing_error will raise\u001b[39;00m\n\u001b[1;32m   3815\u001b[0m     \u001b[38;5;66;03m#  InvalidIndexError. Otherwise we fall through and re-raise\u001b[39;00m\n\u001b[1;32m   3816\u001b[0m     \u001b[38;5;66;03m#  the TypeError.\u001b[39;00m\n\u001b[1;32m   3817\u001b[0m     \u001b[38;5;28mself\u001b[39m\u001b[38;5;241m.\u001b[39m_check_indexing_error(key)\n",
      "\u001b[0;31mKeyError\u001b[0m: '流动资产合计'"
     ]
    }
   ],
   "source": [
    "# 流动性比率：流动比率 = 流动资产 / 流动负债\n",
    "balance_sheet['流动比率'] = balance_sheet['流动资产合计'] / balance_sheet['流动负债合计']\n",
    "\n",
    "# 盈利能力比率：净利润率 = 净利润 / 营业收入\n",
    "income_statement['净利润率'] = income_statement['五、净利润'] / income_statement['一、营业总收入']\n",
    "\n",
    "# 偿债能力比率：利息保障倍数 = EBIT / 利息费用\n",
    "# EBIT 可以通过调整净利润中不包含利息和税收的部分来计算\n",
    "income_statement['利息保障倍数'] = (income_statement['五、净利润'] + income_statement['其中：利息费用']) / income_statement['利息费用']\n",
    "\n",
    "# 资产效率比率：资产周转率 = 销售收入 / 总资产\n",
    "balance_sheet['资产周转率'] = income_statement['一、营业总收入'] / balance_sheet['资产总计']\n",
    "\n",
    "# 市场价值比率：市盈率 = 市场总值 / 净利润\n",
    "#income_statement['市盈率'] = market_values['市场总值'] / income_statement['净利润']\n",
    "\n",
    "# 绘制图表以展示趋势\n",
    "plt.figure(figsize=(10, 5))\n",
    "plt.plot(balance_sheet['年份'], balance_sheet['流动比率'], label='Current Ratio')\n",
    "plt.plot(income_statement['年份'], income_statement['净利润率'], label='Profit Margin')\n",
    "plt.plot(income_statement['年份'], income_statement['利息保障倍数'], label='Interest Coverage')\n",
    "plt.plot(balance_sheet['年份'], balance_sheet['资产周转率'], label='Asset Turnover')\n",
    "#plt.plot(income_statement['年份'], income_statement['市盈率'], label='PE Ratio')\n",
    "plt.title('Financial Ratios Over Time')\n",
    "plt.xlabel('Year')\n",
    "plt.ylabel('Ratio Value')\n",
    "plt.legend()\n",
    "plt.show()"
   ]
  }
 ],
 "metadata": {
  "kernelspec": {
   "display_name": "finana",
   "language": "python",
   "name": "python3"
  },
  "language_info": {
   "codemirror_mode": {
    "name": "ipython",
    "version": 3
   },
   "file_extension": ".py",
   "mimetype": "text/x-python",
   "name": "python",
   "nbconvert_exporter": "python",
   "pygments_lexer": "ipython3",
   "version": "3.10.15"
  }
 },
 "nbformat": 4,
 "nbformat_minor": 2
}
